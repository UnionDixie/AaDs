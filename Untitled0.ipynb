{
  "nbformat": 4,
  "nbformat_minor": 0,
  "metadata": {
    "colab": {
      "provenance": [],
      "authorship_tag": "ABX9TyNTiuftp+MCutCAYfBbLu10",
      "include_colab_link": true
    },
    "kernelspec": {
      "name": "python3",
      "display_name": "Python 3"
    },
    "language_info": {
      "name": "python"
    },
    "accelerator": "GPU",
    "gpuClass": "standard"
  },
  "cells": [
    {
      "cell_type": "markdown",
      "metadata": {
        "id": "view-in-github",
        "colab_type": "text"
      },
      "source": [
        "<a href=\"https://colab.research.google.com/github/UnionDixie/AaDs/blob/main/Untitled0.ipynb\" target=\"_parent\"><img src=\"https://colab.research.google.com/assets/colab-badge.svg\" alt=\"Open In Colab\"/></a>"
      ]
    },
    {
      "cell_type": "code",
      "execution_count": 2,
      "metadata": {
        "id": "3XsnbedaqnW1"
      },
      "outputs": [],
      "source": [
        "import tensorflow as tf\n",
        "from tensorflow import keras"
      ]
    },
    {
      "cell_type": "code",
      "source": [
        "physical_device = tf.config.experimental.list_physical_devices('GPU')\n",
        "print(\"GPU:\", len(physical_device))\n",
        "tf.config.experimental.set_memory_growth(physical_device[0], True)\n"
      ],
      "metadata": {
        "colab": {
          "base_uri": "https://localhost:8080/"
        },
        "id": "m8seqEE9rHqG",
        "outputId": "3a33e923-f4b6-4e6f-a4e6-25dbe35ea0bc"
      },
      "execution_count": 3,
      "outputs": [
        {
          "output_type": "stream",
          "name": "stdout",
          "text": [
            "GPU: 1\n"
          ]
        }
      ]
    },
    {
      "cell_type": "markdown",
      "source": [],
      "metadata": {
        "id": "VBTiJ_qlrIcJ"
      }
    },
    {
      "cell_type": "code",
      "source": [
        "from keras.models import Sequential\n",
        "from keras.layers import Dense, Activation\n",
        "\n",
        "\n",
        "\n",
        "\n"
      ],
      "metadata": {
        "id": "g3bpxt2ZvJJ2"
      },
      "execution_count": 4,
      "outputs": []
    },
    {
      "cell_type": "code",
      "source": [],
      "metadata": {
        "id": "3eSjjoneyB-S"
      },
      "execution_count": null,
      "outputs": []
    },
    {
      "cell_type": "code",
      "source": [
        "model = Sequential([\n",
        "    Dense(4, input_shape=(1,), activation='relu'),\n",
        "    Dense(3, activation='relu'),\n",
        "    Dense(2, activation='softmax')\n",
        "])"
      ],
      "metadata": {
        "id": "r20DJ7k3vV9r"
      },
      "execution_count": 7,
      "outputs": []
    },
    {
      "cell_type": "code",
      "source": [
        "model.summary()"
      ],
      "metadata": {
        "colab": {
          "base_uri": "https://localhost:8080/"
        },
        "id": "sRODbx8BwATe",
        "outputId": "3fec95d6-9099-4ed9-de65-0a0f4a991148"
      },
      "execution_count": 8,
      "outputs": [
        {
          "output_type": "stream",
          "name": "stdout",
          "text": [
            "Model: \"sequential\"\n",
            "_________________________________________________________________\n",
            " Layer (type)                Output Shape              Param #   \n",
            "=================================================================\n",
            " dense (Dense)               (None, 4)                 8         \n",
            "                                                                 \n",
            " dense_1 (Dense)             (None, 3)                 15        \n",
            "                                                                 \n",
            " dense_2 (Dense)             (None, 2)                 8         \n",
            "                                                                 \n",
            "=================================================================\n",
            "Total params: 31\n",
            "Trainable params: 31\n",
            "Non-trainable params: 0\n",
            "_________________________________________________________________\n"
          ]
        }
      ]
    },
    {
      "cell_type": "code",
      "source": [
        "from keras.optimizers import Adam\n",
        "from keras.metrics import categorical_crossentropy"
      ],
      "metadata": {
        "id": "sGFJ8qMEvkHv"
      },
      "execution_count": 9,
      "outputs": []
    },
    {
      "cell_type": "code",
      "source": [
        "model.compile(\n",
        "    Adam(learning_rate=0.0001),\n",
        "    loss='sparse_categorical_crossentropy',\n",
        "    metrics=['accuracy']\n",
        ")"
      ],
      "metadata": {
        "id": "dMttUdAryRNo"
      },
      "execution_count": 11,
      "outputs": []
    },
    {
      "cell_type": "code",
      "source": [
        "model.optimizer.learning_rate"
      ],
      "metadata": {
        "colab": {
          "base_uri": "https://localhost:8080/"
        },
        "id": "JOp6VZS3yej0",
        "outputId": "90923b0d-e7a8-4ebc-a5e8-74dfc01b5077"
      },
      "execution_count": 12,
      "outputs": [
        {
          "output_type": "execute_result",
          "data": {
            "text/plain": [
              "<tf.Variable 'learning_rate:0' shape=() dtype=float32, numpy=1e-04>"
            ]
          },
          "metadata": {},
          "execution_count": 12
        }
      ]
    },
    {
      "cell_type": "code",
      "source": [
        "model.optimizer.learning_rate = 0.01\n",
        "model.optimizer.learning_rate"
      ],
      "metadata": {
        "colab": {
          "base_uri": "https://localhost:8080/"
        },
        "id": "ZaMVZXyJynoL",
        "outputId": "7f28bff5-5f32-4c80-c54d-27999fc79c4b"
      },
      "execution_count": 15,
      "outputs": [
        {
          "output_type": "execute_result",
          "data": {
            "text/plain": [
              "<tf.Variable 'learning_rate:0' shape=() dtype=float32, numpy=0.01>"
            ]
          },
          "metadata": {},
          "execution_count": 15
        }
      ]
    },
    {
      "cell_type": "code",
      "source": [
        "import numpy as np\n",
        "from random import randint\n",
        "from sklearn.utils import shuffle\n",
        "from sklearn.preprocessing import MinMaxScaler"
      ],
      "metadata": {
        "id": "x7wL4rsay3Y7"
      },
      "execution_count": 16,
      "outputs": []
    },
    {
      "cell_type": "code",
      "source": [
        "training_set = []\n",
        "training_labels = []\n",
        "\n",
        "for i in range(125):\n",
        "  random_under50 = randint(10, 50)\n",
        "  training_set.append(random_under50)\n",
        "  training_labels.append(1)\n",
        "\n",
        "  random_over50 = randint(51, 90)\n",
        "  training_set.append(random_over50)\n",
        "  training_labels.append(0)\n",
        "\n",
        "for i in range(2500):\n",
        "  random_under50 = randint(10, 50)\n",
        "  training_set.append(random_under50)\n",
        "  training_labels.append(0)\n",
        "\n",
        "  random_over50 = randint(51, 90)\n",
        "  training_set.append(random_over50)\n",
        "  training_labels.append(1)\n"
      ],
      "metadata": {
        "id": "WZqH7O4I0Q3g"
      },
      "execution_count": 19,
      "outputs": []
    },
    {
      "cell_type": "code",
      "source": [
        "training_labels = np.array(training_labels)\n",
        "training_set = np.array(training_set)\n",
        "training_labels, training_set = shuffle(training_labels, training_set) "
      ],
      "metadata": {
        "id": "HzuivK6H0mIM"
      },
      "execution_count": 21,
      "outputs": []
    },
    {
      "cell_type": "code",
      "source": [
        "print(training_set)"
      ],
      "metadata": {
        "colab": {
          "base_uri": "https://localhost:8080/"
        },
        "id": "7SFVeRYC1fGa",
        "outputId": "b21c9057-7328-43e1-f377-5990b4fbc659"
      },
      "execution_count": 22,
      "outputs": [
        {
          "output_type": "stream",
          "name": "stdout",
          "text": [
            "[12 30 49 ... 70 25 32]\n"
          ]
        }
      ]
    },
    {
      "cell_type": "code",
      "source": [
        "scaler = MinMaxScaler(feature_range=(0,1))\n",
        "scaled_training_set = scaler.fit_transform(training_set.reshape(-1, 1))"
      ],
      "metadata": {
        "id": "Dgjh16lx1j09"
      },
      "execution_count": 24,
      "outputs": []
    },
    {
      "cell_type": "code",
      "source": [
        "scaled_training_set"
      ],
      "metadata": {
        "colab": {
          "base_uri": "https://localhost:8080/"
        },
        "id": "pvGU_TMb14rl",
        "outputId": "9eea7764-ef78-45df-8b95-fd4121971e81"
      },
      "execution_count": 26,
      "outputs": [
        {
          "output_type": "execute_result",
          "data": {
            "text/plain": [
              "array([[0.025 ],\n",
              "       [0.25  ],\n",
              "       [0.4875],\n",
              "       ...,\n",
              "       [0.75  ],\n",
              "       [0.1875],\n",
              "       [0.275 ]])"
            ]
          },
          "metadata": {},
          "execution_count": 26
        }
      ]
    },
    {
      "cell_type": "code",
      "source": [
        "model = Sequential([\n",
        "    Dense(units=12, input_shape=(1,), activation='relu'),\n",
        "    Dense(units=24, activation='relu'),\n",
        "    Dense(units=12, activation='relu'),\n",
        "    Dense(units=2, activation='softmax'),\n",
        "])"
      ],
      "metadata": {
        "id": "tDYWPpX73hCL"
      },
      "execution_count": 29,
      "outputs": []
    },
    {
      "cell_type": "code",
      "source": [
        "model.compile(\n",
        "    Adam(learning_rate=0.0001),\n",
        "    loss='sparse_categorical_crossentropy',\n",
        "    metrics=['accuracy']\n",
        ")\n"
      ],
      "metadata": {
        "id": "8NQ_uWP730Z8"
      },
      "execution_count": 31,
      "outputs": []
    },
    {
      "cell_type": "code",
      "source": [
        "model.fit(x=scaled_training_set, y=training_labels, validation_split=0.1, batch_size=10, epochs = 30, shuffle = True, verbose = 2)"
      ],
      "metadata": {
        "colab": {
          "base_uri": "https://localhost:8080/"
        },
        "id": "K68y8vjm36Uk",
        "outputId": "7bd6a4e9-1fbb-4865-b4df-157b548900cb"
      },
      "execution_count": 45,
      "outputs": [
        {
          "output_type": "stream",
          "name": "stdout",
          "text": [
            "Epoch 1/30\n",
            "473/473 - 1s - loss: 0.2281 - accuracy: 0.9507 - val_loss: 0.2314 - val_accuracy: 0.9295 - 1s/epoch - 2ms/step\n",
            "Epoch 2/30\n",
            "473/473 - 1s - loss: 0.2273 - accuracy: 0.9494 - val_loss: 0.2304 - val_accuracy: 0.9448 - 1s/epoch - 2ms/step\n",
            "Epoch 3/30\n",
            "473/473 - 1s - loss: 0.2267 - accuracy: 0.9526 - val_loss: 0.2298 - val_accuracy: 0.9448 - 1s/epoch - 2ms/step\n",
            "Epoch 4/30\n",
            "473/473 - 1s - loss: 0.2259 - accuracy: 0.9505 - val_loss: 0.2296 - val_accuracy: 0.9448 - 1s/epoch - 2ms/step\n",
            "Epoch 5/30\n",
            "473/473 - 1s - loss: 0.2253 - accuracy: 0.9479 - val_loss: 0.2288 - val_accuracy: 0.9448 - 1s/epoch - 2ms/step\n",
            "Epoch 6/30\n",
            "473/473 - 1s - loss: 0.2247 - accuracy: 0.9501 - val_loss: 0.2284 - val_accuracy: 0.9448 - 1s/epoch - 2ms/step\n",
            "Epoch 7/30\n",
            "473/473 - 1s - loss: 0.2241 - accuracy: 0.9520 - val_loss: 0.2286 - val_accuracy: 0.9295 - 1s/epoch - 2ms/step\n",
            "Epoch 8/30\n",
            "473/473 - 1s - loss: 0.2235 - accuracy: 0.9520 - val_loss: 0.2281 - val_accuracy: 0.9295 - 1s/epoch - 2ms/step\n",
            "Epoch 9/30\n",
            "473/473 - 1s - loss: 0.2230 - accuracy: 0.9501 - val_loss: 0.2274 - val_accuracy: 0.9448 - 1s/epoch - 2ms/step\n",
            "Epoch 10/30\n",
            "473/473 - 1s - loss: 0.2225 - accuracy: 0.9511 - val_loss: 0.2270 - val_accuracy: 0.9448 - 1s/epoch - 2ms/step\n",
            "Epoch 11/30\n",
            "473/473 - 1s - loss: 0.2218 - accuracy: 0.9517 - val_loss: 0.2267 - val_accuracy: 0.9448 - 1s/epoch - 2ms/step\n",
            "Epoch 12/30\n",
            "473/473 - 1s - loss: 0.2214 - accuracy: 0.9520 - val_loss: 0.2265 - val_accuracy: 0.9448 - 1s/epoch - 2ms/step\n",
            "Epoch 13/30\n",
            "473/473 - 1s - loss: 0.2209 - accuracy: 0.9532 - val_loss: 0.2268 - val_accuracy: 0.9295 - 1s/epoch - 2ms/step\n",
            "Epoch 14/30\n",
            "473/473 - 1s - loss: 0.2205 - accuracy: 0.9492 - val_loss: 0.2257 - val_accuracy: 0.9448 - 1s/epoch - 2ms/step\n",
            "Epoch 15/30\n",
            "473/473 - 1s - loss: 0.2200 - accuracy: 0.9509 - val_loss: 0.2254 - val_accuracy: 0.9448 - 1s/epoch - 2ms/step\n",
            "Epoch 16/30\n",
            "473/473 - 1s - loss: 0.2194 - accuracy: 0.9505 - val_loss: 0.2255 - val_accuracy: 0.9448 - 1s/epoch - 2ms/step\n",
            "Epoch 17/30\n",
            "473/473 - 1s - loss: 0.2190 - accuracy: 0.9530 - val_loss: 0.2252 - val_accuracy: 0.9448 - 1s/epoch - 2ms/step\n",
            "Epoch 18/30\n",
            "473/473 - 1s - loss: 0.2185 - accuracy: 0.9532 - val_loss: 0.2247 - val_accuracy: 0.9448 - 1s/epoch - 2ms/step\n",
            "Epoch 19/30\n",
            "473/473 - 1s - loss: 0.2181 - accuracy: 0.9528 - val_loss: 0.2245 - val_accuracy: 0.9448 - 1s/epoch - 2ms/step\n",
            "Epoch 20/30\n",
            "473/473 - 1s - loss: 0.2176 - accuracy: 0.9505 - val_loss: 0.2243 - val_accuracy: 0.9448 - 1s/epoch - 2ms/step\n",
            "Epoch 21/30\n",
            "473/473 - 1s - loss: 0.2174 - accuracy: 0.9513 - val_loss: 0.2240 - val_accuracy: 0.9448 - 1s/epoch - 2ms/step\n",
            "Epoch 22/30\n",
            "473/473 - 1s - loss: 0.2169 - accuracy: 0.9532 - val_loss: 0.2237 - val_accuracy: 0.9448 - 1s/epoch - 2ms/step\n",
            "Epoch 23/30\n",
            "473/473 - 1s - loss: 0.2165 - accuracy: 0.9520 - val_loss: 0.2241 - val_accuracy: 0.9448 - 1s/epoch - 2ms/step\n",
            "Epoch 24/30\n",
            "473/473 - 1s - loss: 0.2161 - accuracy: 0.9528 - val_loss: 0.2234 - val_accuracy: 0.9448 - 1s/epoch - 2ms/step\n",
            "Epoch 25/30\n",
            "473/473 - 1s - loss: 0.2158 - accuracy: 0.9530 - val_loss: 0.2233 - val_accuracy: 0.9448 - 1s/epoch - 2ms/step\n",
            "Epoch 26/30\n",
            "473/473 - 1s - loss: 0.2154 - accuracy: 0.9528 - val_loss: 0.2228 - val_accuracy: 0.9448 - 1s/epoch - 2ms/step\n",
            "Epoch 27/30\n",
            "473/473 - 1s - loss: 0.2150 - accuracy: 0.9532 - val_loss: 0.2228 - val_accuracy: 0.9448 - 1s/epoch - 2ms/step\n",
            "Epoch 28/30\n",
            "473/473 - 1s - loss: 0.2146 - accuracy: 0.9511 - val_loss: 0.2236 - val_accuracy: 0.9295 - 1s/epoch - 2ms/step\n",
            "Epoch 29/30\n",
            "473/473 - 1s - loss: 0.2142 - accuracy: 0.9517 - val_loss: 0.2223 - val_accuracy: 0.9448 - 1s/epoch - 2ms/step\n",
            "Epoch 30/30\n",
            "473/473 - 1s - loss: 0.2138 - accuracy: 0.9524 - val_loss: 0.2220 - val_accuracy: 0.9448 - 1s/epoch - 2ms/step\n"
          ]
        },
        {
          "output_type": "execute_result",
          "data": {
            "text/plain": [
              "<keras.callbacks.History at 0x7f8e5378afa0>"
            ]
          },
          "metadata": {},
          "execution_count": 45
        }
      ]
    },
    {
      "cell_type": "code",
      "source": [
        "test_set = []\n",
        "test_labels = []\n",
        "\n",
        "for i in range(25):\n",
        "  random_under50 = randint(10, 50)\n",
        "  test_set.append(random_under50)\n",
        "  test_labels.append(1)\n",
        "\n",
        "  random_over50 = randint(51, 90)\n",
        "  test_set.append(random_over50)\n",
        "  test_labels.append(0)\n",
        "\n",
        "for i in range(500):\n",
        "  random_under50 = randint(10, 50)\n",
        "  test_set.append(random_under50)\n",
        "  test_labels.append(0)\n",
        "\n",
        "  random_over50 = randint(51, 90)\n",
        "  test_set.append(random_over50)\n",
        "  test_labels.append(1)\n"
      ],
      "metadata": {
        "id": "eONCB76n4McS"
      },
      "execution_count": 34,
      "outputs": []
    },
    {
      "cell_type": "code",
      "source": [
        "test_labels = np.array(test_labels)\n",
        "test_set = np.array(test_set)\n",
        "test_labels, test_set = shuffle(test_labels, test_set) \n",
        "scaled_test_set = scaler.fit_transform(test_set.reshape(-1, 1))"
      ],
      "metadata": {
        "id": "_ZHBwEf75Thz"
      },
      "execution_count": 36,
      "outputs": []
    },
    {
      "cell_type": "code",
      "source": [
        "scaled_test_set"
      ],
      "metadata": {
        "colab": {
          "base_uri": "https://localhost:8080/"
        },
        "id": "uoBcYTQ65tKf",
        "outputId": "c99e70e3-ec32-4223-a1ee-549431fb471b"
      },
      "execution_count": 37,
      "outputs": [
        {
          "output_type": "execute_result",
          "data": {
            "text/plain": [
              "array([[0.6625],\n",
              "       [1.    ],\n",
              "       [0.4125],\n",
              "       ...,\n",
              "       [0.175 ],\n",
              "       [0.7   ],\n",
              "       [0.675 ]])"
            ]
          },
          "metadata": {},
          "execution_count": 37
        }
      ]
    },
    {
      "cell_type": "code",
      "source": [
        "predictions = model.predict(x=scaled_test_set, batch_size=10, verbose = 0)\n"
      ],
      "metadata": {
        "id": "g-gdc61R5zkc"
      },
      "execution_count": 46,
      "outputs": []
    },
    {
      "cell_type": "code",
      "source": [
        "predictions"
      ],
      "metadata": {
        "colab": {
          "base_uri": "https://localhost:8080/"
        },
        "id": "-5mzVQHu58Jk",
        "outputId": "1cf52cc1-e12e-443c-c4c2-d23193659a7b"
      },
      "execution_count": 47,
      "outputs": [
        {
          "output_type": "execute_result",
          "data": {
            "text/plain": [
              "array([[0.07428238, 0.92571765],\n",
              "       [0.01530799, 0.98469204],\n",
              "       [0.93043673, 0.06956325],\n",
              "       ...,\n",
              "       [0.9647324 , 0.03526757],\n",
              "       [0.06276808, 0.9372319 ],\n",
              "       [0.07024327, 0.9297567 ]], dtype=float32)"
            ]
          },
          "metadata": {},
          "execution_count": 47
        }
      ]
    },
    {
      "cell_type": "code",
      "source": [
        "rounded_predictions = np.argmax(predictions, axis=-1)"
      ],
      "metadata": {
        "id": "UVFqM83i6ANq"
      },
      "execution_count": 48,
      "outputs": []
    },
    {
      "cell_type": "code",
      "source": [
        "rounded_predictions"
      ],
      "metadata": {
        "colab": {
          "base_uri": "https://localhost:8080/"
        },
        "id": "rfrZtm6Y6INl",
        "outputId": "8451f194-4136-4c48-d00d-2769496cedaa"
      },
      "execution_count": 49,
      "outputs": [
        {
          "output_type": "execute_result",
          "data": {
            "text/plain": [
              "array([1, 1, 0, ..., 0, 1, 1])"
            ]
          },
          "metadata": {},
          "execution_count": 49
        }
      ]
    },
    {
      "cell_type": "code",
      "source": [
        "\n",
        "from sklearn.metrics import confusion_matrix\n",
        "import itertools\n",
        "import matplotlib.pyplot as plt"
      ],
      "metadata": {
        "id": "s_kKGSzs6kd5"
      },
      "execution_count": 50,
      "outputs": []
    },
    {
      "cell_type": "code",
      "source": [
        "\n",
        "def plot_confusion_matrix(cm, classes, normalize=False, title=\"Confusion matrix\", cmap=plt.cm.Blues):\n",
        "  plt.imshow(cm, interpolation='nearest', cmap=cmap)\n",
        "  plt.title(title)\n",
        "  plt.colorbar()\n",
        "  tick_marks = np.arange(len(classes))\n",
        "  plt.xticks(tick_marks, classes, rotation=45)\n",
        "  plt.yticks(tick_marks, classes)\n",
        "\n",
        "  if normalize:\n",
        "    cm = cm.astype('float') / cm.sum(axis=1)[:, np.newaxis]\n",
        "    print(\"Normalized Confusion Matrix\")\n",
        "  else:\n",
        "    print(\"Confusion Matrix without Normalization\")\n",
        "\n",
        "  print(cm)\n",
        "\n",
        "  thresh = cm.max() / 2.0\n",
        "\n",
        "  for i, j in itertools.product(range(cm.shape[0]), range(cm.shape[1])):\n",
        "    plt.text(j, i, cm[i,j], horizontalalignment=\"center\", color=\"white\" if cm[i,j] > thresh else \"black\")\n",
        "\n",
        "  plt.tight_layout()\n",
        "  plt.xlabel('Predicted label')\n",
        "  plt.ylabel('True label')\n"
      ],
      "metadata": {
        "id": "6xHMAAKA6lYy"
      },
      "execution_count": 51,
      "outputs": []
    },
    {
      "cell_type": "code",
      "source": [
        "\n",
        "cm = confusion_matrix(y_true=test_labels, y_pred=rounded_predictions)\n",
        "\n",
        "cm_plot_labels = ['no side effects', 'had side effects']\n",
        "plot_confusion_matrix(cm=cm, classes=cm_plot_labels)"
      ],
      "metadata": {
        "colab": {
          "base_uri": "https://localhost:8080/",
          "height": 363
        },
        "id": "BnPT2Dz26qZx",
        "outputId": "8f188c26-45fb-4c27-cdd9-ce79f9b10775"
      },
      "execution_count": 52,
      "outputs": [
        {
          "output_type": "stream",
          "name": "stdout",
          "text": [
            "Confusion Matrix without Normalization\n",
            "[[500  25]\n",
            " [ 25 500]]\n"
          ]
        },
        {
          "output_type": "display_data",
          "data": {
            "text/plain": [
              "<Figure size 432x288 with 2 Axes>"
            ],
            "image/png": "[encoded data removed]"
          },
          "metadata": {
            "needs_background": "light"
          }
        }
      ]
    },
    {
      "cell_type": "code",
      "source": [
        "\n",
        "import os.path\n",
        "if os.path.isfile('vaccine_trial_model.h5') is False:\n",
        "  model.save('vaccine_trial_model.h5')\n",
        "  print(\"Model Saved!\")"
      ],
      "metadata": {
        "colab": {
          "base_uri": "https://localhost:8080/"
        },
        "id": "kE8IJLht7wO-",
        "outputId": "591a7b91-f374-4c04-fed7-12328f32b98a"
      },
      "execution_count": 53,
      "outputs": [
        {
          "output_type": "stream",
          "name": "stdout",
          "text": [
            "Model Saved!\n"
          ]
        }
      ]
    },
    {
      "cell_type": "code",
      "source": [
        "\n",
        "from tensorflow.keras.models import load_model\n",
        "new_model = load_model('vaccine_trial_model.h5')"
      ],
      "metadata": {
        "id": "59U8aB0d7xGW"
      },
      "execution_count": 54,
      "outputs": []
    },
    {
      "cell_type": "code",
      "source": [
        "new_model.summary()"
      ],
      "metadata": {
        "colab": {
          "base_uri": "https://localhost:8080/"
        },
        "id": "YKcrYbLT7yc2",
        "outputId": "7c163818-9b42-4cb0-98f2-d46f75f309f0"
      },
      "execution_count": 55,
      "outputs": [
        {
          "output_type": "stream",
          "name": "stdout",
          "text": [
            "Model: \"sequential_1\"\n",
            "_________________________________________________________________\n",
            " Layer (type)                Output Shape              Param #   \n",
            "=================================================================\n",
            " dense_3 (Dense)             (None, 12)                24        \n",
            "                                                                 \n",
            " dense_4 (Dense)             (None, 24)                312       \n",
            "                                                                 \n",
            " dense_5 (Dense)             (None, 12)                300       \n",
            "                                                                 \n",
            " dense_6 (Dense)             (None, 2)                 26        \n",
            "                                                                 \n",
            "=================================================================\n",
            "Total params: 662\n",
            "Trainable params: 662\n",
            "Non-trainable params: 0\n",
            "_________________________________________________________________\n"
          ]
        }
      ]
    },
    {
      "cell_type": "code",
      "source": [
        "\n",
        "new_model.get_weights()"
      ],
      "metadata": {
        "colab": {
          "base_uri": "https://localhost:8080/"
        },
        "id": "qPd3NdoQ73eM",
        "outputId": "a4873ba6-777c-46c5-c703-9a14082f318a"
      },
      "execution_count": 56,
      "outputs": [
        {
          "output_type": "execute_result",
          "data": {
            "text/plain": [
              "[array([[-0.13425744,  0.7056713 , -0.49377584, -0.03149235,  0.73733145,\n",
              "         -0.5250516 ,  0.38833922,  0.26621702,  0.65377945, -0.1026423 ,\n",
              "         -0.21099481, -0.33365202]], dtype=float32),\n",
              " array([ 0.        ,  0.08041933,  0.        ,  0.        , -0.18783708,\n",
              "         0.        , -0.17481846, -0.12115996, -0.16083696,  0.        ,\n",
              "         0.        ,  0.        ], dtype=float32),\n",
              " array([[-0.17154151,  0.20598519,  0.06071839, -0.03843379, -0.14856184,\n",
              "         -0.2756403 ,  0.27241045,  0.12624341, -0.11319301, -0.07477644,\n",
              "         -0.09444305,  0.18633986, -0.09187189,  0.05997467, -0.2918716 ,\n",
              "          0.217255  ,  0.33281058, -0.02766776, -0.30269718,  0.24448234,\n",
              "         -0.27374375, -0.0347968 ,  0.34700072, -0.40452918],\n",
              "        [ 0.01929194, -0.175305  ,  0.1133874 ,  0.3187288 , -0.00706246,\n",
              "         -0.28002855,  0.01980976,  0.30359164,  0.4400875 , -0.33449018,\n",
              "         -0.11256903,  0.08552212,  0.18356086, -0.19910719,  0.07912372,\n",
              "          0.18174945,  0.53795063, -0.17454787, -0.24152227,  0.08796063,\n",
              "          0.58577144, -0.1700086 ,  0.00765813,  0.27859947],\n",
              "        [-0.22205901,  0.16736907, -0.2589959 ,  0.37042278,  0.19204092,\n",
              "          0.33143544,  0.03095385, -0.13974318,  0.28985173, -0.03940353,\n",
              "          0.19472557, -0.33109137, -0.01757967, -0.13925165,  0.06072822,\n",
              "         -0.01393852, -0.33969656, -0.02307984, -0.12600943, -0.3370585 ,\n",
              "          0.38932544, -0.38863823, -0.21547095, -0.28764176],\n",
              "        [-0.29766133,  0.18173236, -0.1818924 ,  0.22510111, -0.18010835,\n",
              "          0.15708148, -0.33569536,  0.18133533,  0.24504423,  0.22037172,\n",
              "          0.09073746,  0.23323119,  0.03173777,  0.21745872, -0.20943303,\n",
              "          0.01011193,  0.12040955, -0.2146155 ,  0.24691492, -0.29080892,\n",
              "          0.09504545, -0.06598768,  0.15165323, -0.083336  ],\n",
              "        [ 0.02313066,  0.05350935, -0.26840445,  0.43952224, -0.22863197,\n",
              "          0.31967434,  0.04888046,  0.04287486,  0.20627247,  0.12603271,\n",
              "          0.4343195 ,  0.5665307 , -0.41549096,  0.40333033, -0.6224224 ,\n",
              "         -0.14246997,  0.04678559, -0.07727453,  0.02791973, -0.50477606,\n",
              "          0.2727686 , -0.12119356,  0.54847264,  0.45303807],\n",
              "        [ 0.29158205,  0.27681005,  0.00840312,  0.3305431 ,  0.11481071,\n",
              "         -0.29766104,  0.15925914,  0.2261582 ,  0.31286043, -0.13456473,\n",
              "          0.24511403,  0.39608216, -0.08470333, -0.36951298,  0.3969159 ,\n",
              "         -0.08756721, -0.3840581 , -0.19286835,  0.37527806,  0.3010311 ,\n",
              "          0.09047505, -0.2675536 ,  0.35318863, -0.2107381 ],\n",
              "        [ 0.3767256 ,  0.2419323 , -0.7896687 ,  0.65845436,  0.28731513,\n",
              "          0.3286054 ,  0.38870072,  0.7090052 ,  0.57453215,  0.2256847 ,\n",
              "          0.79328287,  0.5628043 , -0.9737722 ,  0.3966535 , -1.0040792 ,\n",
              "         -0.01525317,  0.01237683,  0.16436607, -0.24155433, -1.0579871 ,\n",
              "          0.3314502 , -0.34459072,  0.84612733,  0.48331937],\n",
              "        [-0.32886282,  0.3414931 , -0.8413267 ,  0.0969812 ,  0.14298749,\n",
              "          0.32522365, -0.07834968,  0.00541431,  0.10133322,  0.17495948,\n",
              "          0.6296957 ,  0.30076423, -1.2923557 , -0.17491923, -0.9317281 ,\n",
              "         -0.73920465, -0.5139409 ,  0.1659022 , -0.36625183, -0.858633  ,\n",
              "          0.5937973 , -0.18165684,  0.7859665 ,  0.08009512],\n",
              "        [-0.38898003,  0.02124348, -0.57839   , -0.15951316, -0.05160648,\n",
              "         -0.17088966, -0.40279144,  0.13617061,  0.4525636 , -0.3136937 ,\n",
              "          0.46454495,  0.29307473, -0.36272192,  0.5270415 ,  0.08540686,\n",
              "         -0.34929928, -0.2887419 , -0.09409842,  0.2392585 , -0.21672209,\n",
              "          0.24101606, -0.20039617,  0.62729526,  0.43975925],\n",
              "        [-0.096903  , -0.39969137, -0.09455997,  0.27612382,  0.01990664,\n",
              "          0.15458322, -0.15506169, -0.03039175,  0.31189698,  0.24649549,\n",
              "          0.10461819, -0.08898476, -0.32022783,  0.04710314, -0.18279749,\n",
              "         -0.3831264 , -0.07605377,  0.318047  , -0.22912556, -0.19422899,\n",
              "          0.13041508,  0.19152445, -0.0528326 , -0.29342437],\n",
              "        [-0.37388718, -0.03720951,  0.00477356, -0.17614268,  0.24406207,\n",
              "         -0.08325219, -0.28950816, -0.3990965 ,  0.33697265, -0.3215025 ,\n",
              "          0.15641737,  0.3517133 ,  0.03698769, -0.19959442, -0.3617281 ,\n",
              "         -0.0029175 , -0.03779742,  0.01573831, -0.40218234,  0.09817398,\n",
              "          0.20705402, -0.27309746,  0.00401297,  0.19781572],\n",
              "        [-0.19896117, -0.06143069,  0.02703616,  0.35137177,  0.2870537 ,\n",
              "          0.3956675 ,  0.24184573, -0.03439471,  0.2850108 ,  0.2741769 ,\n",
              "         -0.17213757, -0.20536506,  0.26190275, -0.13992655,  0.13244224,\n",
              "         -0.19121377, -0.36414453,  0.10267323, -0.38385797, -0.249434  ,\n",
              "          0.37515652, -0.13931033,  0.10607022, -0.32164752]],\n",
              "       dtype=float32),\n",
              " array([-0.00634789, -0.00605493,  0.17315061, -0.17174095,  0.        ,\n",
              "        -0.00528355, -0.00610713, -0.14725536, -0.13059308,  0.        ,\n",
              "        -0.08714601, -0.16214965,  0.14900959,  0.17254116,  0.14183201,\n",
              "         0.20267439,  0.20640676,  0.        ,  0.17714866,  0.17707562,\n",
              "         0.04223341,  0.        , -0.17873906, -0.1646368 ], dtype=float32),\n",
              " array([[-2.10557982e-01,  3.61286998e-01, -9.67231989e-02,\n",
              "          1.70182720e-01,  2.14057982e-01, -3.56440067e-01,\n",
              "         -9.21414495e-02,  2.53458947e-01,  2.50386894e-01,\n",
              "         -2.80783445e-01,  1.58169180e-01, -2.41781443e-01],\n",
              "        [ 2.84016994e-03,  2.38855541e-01, -3.82998616e-01,\n",
              "          2.48968601e-04, -1.37347490e-01,  3.87461841e-01,\n",
              "          3.17465812e-01, -2.13796631e-01,  1.51739150e-01,\n",
              "          1.40904665e-01, -3.15171897e-01, -2.25475952e-01],\n",
              "        [ 3.40367883e-01,  1.94501467e-02, -4.06846255e-02,\n",
              "          2.48574317e-01, -2.33966067e-01,  1.61385477e-01,\n",
              "         -1.00028145e+00,  3.71546566e-01, -1.42092228e+00,\n",
              "          6.86323404e-01, -1.06697358e-01, -7.20363557e-01],\n",
              "        [-6.16054714e-01, -4.21691328e-01,  3.55352491e-01,\n",
              "         -6.68821990e-01,  8.08903873e-02,  2.04975367e-01,\n",
              "          3.06770742e-01, -2.17351392e-01,  1.64203823e-01,\n",
              "         -2.68236905e-01,  2.36824259e-01,  5.76857984e-01],\n",
              "        [-6.93405271e-02,  2.82492697e-01, -3.23482752e-02,\n",
              "         -1.86001435e-01, -6.28136992e-02, -9.59715843e-02,\n",
              "          2.94379056e-01,  2.42024720e-01, -3.05647016e-01,\n",
              "         -2.99631178e-01,  3.23113859e-01, -3.44656795e-01],\n",
              "        [ 3.18348736e-01, -1.15431480e-01, -3.04586530e-01,\n",
              "         -1.04270399e-01, -1.26287431e-01,  2.04577148e-01,\n",
              "         -4.05564636e-01,  2.05166206e-01, -1.61313847e-01,\n",
              "          2.24773169e-01,  5.26260436e-02, -1.22255445e-01],\n",
              "        [-1.30265296e-01,  7.70577490e-02, -1.74194306e-01,\n",
              "         -6.40077963e-02,  3.17516208e-01, -1.02442861e-01,\n",
              "         -2.52478453e-03, -3.54345113e-01,  9.18465629e-02,\n",
              "          1.95933923e-01,  3.91073138e-01,  3.84590328e-01],\n",
              "        [-4.30164516e-01,  1.90681413e-01, -3.31755867e-03,\n",
              "         -7.59043932e-01,  1.53278172e-01,  2.34971702e-01,\n",
              "          1.68487094e-02,  1.53210089e-01,  6.40345991e-01,\n",
              "         -1.84333727e-01, -2.30946615e-01,  1.22728035e-01],\n",
              "        [ 8.81976914e-03, -7.80053139e-02, -2.28893176e-01,\n",
              "         -4.98545438e-01, -3.69863182e-01, -2.12494493e-01,\n",
              "          3.61396164e-01,  4.45254892e-01,  4.98790950e-01,\n",
              "         -1.70611635e-01, -1.30867869e-01,  6.58006608e-01],\n",
              "        [ 3.87890399e-01,  1.44577086e-01, -6.78415895e-02,\n",
              "         -4.09165919e-02, -4.07310396e-01, -3.16637754e-01,\n",
              "         -2.19310597e-01,  1.80987895e-01, -6.88543618e-02,\n",
              "          1.14901602e-01,  1.31694913e-01,  2.21514106e-01],\n",
              "        [-4.34272498e-01, -2.20117643e-01, -3.13225120e-01,\n",
              "         -9.78366494e-01, -8.69833827e-02, -3.59540135e-01,\n",
              "          7.57603049e-02, -2.40179915e-02,  1.97065532e-01,\n",
              "         -7.96696723e-01,  1.72623619e-01,  4.64679420e-01],\n",
              "        [-5.65128267e-01,  2.68942863e-01, -7.99521580e-02,\n",
              "         -9.75109279e-01, -2.08462134e-01, -6.37235940e-02,\n",
              "          5.58598638e-01,  2.67809004e-01,  2.00168505e-01,\n",
              "         -5.00034571e-01, -2.73348570e-01,  3.59673053e-02],\n",
              "        [ 6.43195987e-01, -1.49136350e-01,  5.43038780e-03,\n",
              "          3.84010106e-01, -8.41150582e-02,  1.55380070e-02,\n",
              "         -9.74881887e-01,  3.37204844e-01, -1.39291942e+00,\n",
              "          8.59989703e-01,  7.20488327e-03, -1.28143263e+00],\n",
              "        [ 1.88130036e-01, -2.33656406e-01, -1.46603599e-01,\n",
              "          3.01601619e-01,  4.18682098e-02, -2.26118803e-01,\n",
              "          5.20013034e-01,  2.19922513e-01,  4.84276235e-01,\n",
              "         -3.24985050e-02,  2.54741251e-01,  5.03631353e-01],\n",
              "        [ 3.28499049e-01, -1.85833097e-01, -1.75155595e-01,\n",
              "          4.01553333e-01, -2.18194425e-02,  3.95599306e-02,\n",
              "         -7.70119131e-01,  1.98663458e-01, -1.07958865e+00,\n",
              "          4.04298425e-01, -1.67052969e-01, -1.37285888e+00],\n",
              "        [ 5.72049439e-01, -2.91424185e-01, -1.16080288e-02,\n",
              "          1.17282532e-01, -2.11231872e-01, -1.78478792e-01,\n",
              "          1.16980605e-01, -6.44157708e-01,  1.31571069e-01,\n",
              "          5.35510242e-01,  3.60263973e-01,  1.53969258e-01],\n",
              "        [ 3.71392518e-01,  6.40643612e-02,  1.25458330e-01,\n",
              "          2.56235540e-01, -3.41811836e-01, -2.60657966e-01,\n",
              "          7.54286796e-02, -2.52773792e-01,  2.91280806e-01,\n",
              "          6.31872490e-02, -7.50499070e-02,  4.82721835e-01],\n",
              "        [ 2.52923787e-01,  2.65312016e-01, -2.98791826e-02,\n",
              "         -2.73859680e-01, -9.25302505e-02,  1.81304216e-01,\n",
              "         -5.22694290e-02,  2.15742707e-01, -7.23317266e-03,\n",
              "          2.62871683e-02,  1.05322182e-01, -1.69217557e-01],\n",
              "        [ 3.37272525e-01,  1.51040569e-01, -9.21874568e-02,\n",
              "          3.52149785e-01, -1.86780095e-02, -1.71048701e-01,\n",
              "          5.04052162e-01, -4.11782503e-01,  5.32126665e-01,\n",
              "          3.56253743e-01,  7.94277191e-02, -1.07521594e-01],\n",
              "        [ 8.29689264e-01,  1.03451163e-01, -6.71024993e-02,\n",
              "          7.37998545e-01,  1.29995763e-01, -1.85917616e-02,\n",
              "         -8.15323889e-01, -4.50082213e-01, -1.17125630e+00,\n",
              "          3.79842311e-01, -2.17558816e-01, -1.35928297e+00],\n",
              "        [-4.66695935e-01,  3.62496972e-02,  2.79882610e-01,\n",
              "          1.38520822e-01,  1.89749181e-01,  2.33373821e-01,\n",
              "          2.43337288e-01,  4.56513800e-02,  5.19862890e-01,\n",
              "          2.56069183e-01, -1.82357252e-01,  2.43719351e-02],\n",
              "        [-2.94312954e-01,  1.52387023e-02, -1.75228029e-01,\n",
              "          1.44843936e-01, -3.30253810e-01,  3.65748107e-02,\n",
              "         -3.65929425e-01, -2.99649090e-01,  1.86294973e-01,\n",
              "         -3.73460948e-01,  6.66436553e-03,  1.23687267e-01],\n",
              "        [-1.06893229e+00,  2.70703077e-01, -3.15703422e-01,\n",
              "         -1.06156921e+00, -3.61218959e-01,  3.96545351e-01,\n",
              "          1.33573219e-01,  4.17162508e-01,  1.08529307e-01,\n",
              "         -1.10875702e+00,  3.35391164e-01,  7.31559247e-02],\n",
              "        [-1.38601154e-01,  1.40925283e-02, -3.28264594e-01,\n",
              "         -9.02710408e-02,  1.28200829e-01, -2.99492955e-01,\n",
              "          6.45488560e-01,  1.81345716e-01,  1.20306522e-01,\n",
              "         -6.58538640e-01, -3.04347098e-01,  5.29270351e-01]], dtype=float32),\n",
              " array([ 0.12032754, -0.02253655, -0.03854116,  0.16620399,  0.        ,\n",
              "         0.        , -0.05413104, -0.06016161, -0.02343117,  0.11825594,\n",
              "        -0.01752714,  0.01164931], dtype=float32),\n",
              " array([[ 0.9614508 , -0.54999185],\n",
              "        [ 0.30802524, -0.49204457],\n",
              "        [-0.2545206 , -0.19671808],\n",
              "        [ 0.64120007, -0.8926923 ],\n",
              "        [ 0.47048998, -0.2992974 ],\n",
              "        [-0.15052682, -0.1994231 ],\n",
              "        [-0.8159385 , -0.16546564],\n",
              "        [ 0.69659996, -0.18732832],\n",
              "        [-0.17027278,  0.9101832 ],\n",
              "        [ 0.8492097 , -0.65495795],\n",
              "        [-0.00257255,  0.24507226],\n",
              "        [ 0.17627054,  1.0286437 ]], dtype=float32),\n",
              " array([-0.05886436,  0.05886437], dtype=float32)]"
            ]
          },
          "metadata": {},
          "execution_count": 56
        }
      ]
    },
    {
      "cell_type": "code",
      "source": [
        "\n",
        "json_string = model.to_json()"
      ],
      "metadata": {
        "id": "UVMbg4oe78_k"
      },
      "execution_count": 57,
      "outputs": []
    },
    {
      "cell_type": "code",
      "source": [
        "\n",
        "json_string"
      ],
      "metadata": {
        "colab": {
          "base_uri": "https://localhost:8080/",
          "height": 226
        },
        "id": "y4ECvkdq7_GF",
        "outputId": "6c4a2599-79cb-4b96-814e-2c6396d8d449"
      },
      "execution_count": 58,
      "outputs": [
        {
          "output_type": "execute_result",
          "data": {
            "text/plain": [
              "'{\"class_name\": \"Sequential\", \"config\": {\"name\": \"sequential_1\", \"layers\": [{\"class_name\": \"InputLayer\", \"config\": {\"batch_input_shape\": [null, 1], \"dtype\": \"float32\", \"sparse\": false, \"ragged\": false, \"name\": \"dense_3_input\"}}, {\"class_name\": \"Dense\", \"config\": {\"name\": \"dense_3\", \"trainable\": true, \"batch_input_shape\": [null, 1], \"dtype\": \"float32\", \"units\": 12, \"activation\": \"relu\", \"use_bias\": true, \"kernel_initializer\": {\"class_name\": \"GlorotUniform\", \"config\": {\"seed\": null}}, \"bias_initializer\": {\"class_name\": \"Zeros\", \"config\": {}}, \"kernel_regularizer\": null, \"bias_regularizer\": null, \"activity_regularizer\": null, \"kernel_constraint\": null, \"bias_constraint\": null}}, {\"class_name\": \"Dense\", \"config\": {\"name\": \"dense_4\", \"trainable\": true, \"dtype\": \"float32\", \"units\": 24, \"activation\": \"relu\", \"use_bias\": true, \"kernel_initializer\": {\"class_name\": \"GlorotUniform\", \"config\": {\"seed\": null}}, \"bias_initializer\": {\"class_name\": \"Zeros\", \"config\": {}}, \"kernel_regularizer\": null, \"bias_regularizer\": null, \"activity_regularizer\": null, \"kernel_constraint\": null, \"bias_constraint\": null}}, {\"class_name\": \"Dense\", \"config\": {\"name\": \"dense_5\", \"trainable\": true, \"dtype\": \"float32\", \"units\": 12, \"activation\": \"relu\", \"use_bias\": true, \"kernel_initializer\": {\"class_name\": \"GlorotUniform\", \"config\": {\"seed\": null}}, \"bias_initializer\": {\"class_name\": \"Zeros\", \"config\": {}}, \"kernel_regularizer\": null, \"bias_regularizer\": null, \"activity_regularizer\": null, \"kernel_constraint\": null, \"bias_constraint\": null}}, {\"class_name\": \"Dense\", \"config\": {\"name\": \"dense_6\", \"trainable\": true, \"dtype\": \"float32\", \"units\": 2, \"activation\": \"softmax\", \"use_bias\": true, \"kernel_initializer\": {\"class_name\": \"GlorotUniform\", \"config\": {\"seed\": null}}, \"bias_initializer\": {\"class_name\": \"Zeros\", \"config\": {}}, \"kernel_regularizer\": null, \"bias_regularizer\": null, \"activity_regularizer\": null, \"kernel_constraint\": null, \"bias_constraint\": null}}]}, \"keras_version\": \"2.9.0\", \"backend\": \"tensorflow\"}'"
            ],
            "application/vnd.google.colaboratory.intrinsic+json": {
              "type": "string"
            }
          },
          "metadata": {},
          "execution_count": 58
        }
      ]
    },
    {
      "cell_type": "code",
      "source": [
        "\n",
        "from tensorflow.keras.models import model_from_json\n",
        "model_architecture = model_from_json(json_string)"
      ],
      "metadata": {
        "id": "22QXsnUi8Cuc"
      },
      "execution_count": 59,
      "outputs": []
    },
    {
      "cell_type": "code",
      "source": [
        "\n",
        "model_architecture.summary()"
      ],
      "metadata": {
        "colab": {
          "base_uri": "https://localhost:8080/"
        },
        "id": "f0P7terb8D6U",
        "outputId": "771db8b8-a498-4820-87ae-781686deb440"
      },
      "execution_count": 60,
      "outputs": [
        {
          "output_type": "stream",
          "name": "stdout",
          "text": [
            "Model: \"sequential_1\"\n",
            "_________________________________________________________________\n",
            " Layer (type)                Output Shape              Param #   \n",
            "=================================================================\n",
            " dense_3 (Dense)             (None, 12)                24        \n",
            "                                                                 \n",
            " dense_4 (Dense)             (None, 24)                312       \n",
            "                                                                 \n",
            " dense_5 (Dense)             (None, 12)                300       \n",
            "                                                                 \n",
            " dense_6 (Dense)             (None, 2)                 26        \n",
            "                                                                 \n",
            "=================================================================\n",
            "Total params: 662\n",
            "Trainable params: 662\n",
            "Non-trainable params: 0\n",
            "_________________________________________________________________\n"
          ]
        }
      ]
    },
    {
      "cell_type": "code",
      "source": [
        "import os.path\n",
        "if os.path.isfile('model_weights.h5') is False:\n",
        "  model.save_weights('model_weights.h5')\n",
        "  print(\"Model Saved!\")"
      ],
      "metadata": {
        "colab": {
          "base_uri": "https://localhost:8080/"
        },
        "id": "qt5e5B3K8Kgj",
        "outputId": "3bc3777c-78cc-4152-c9a7-969c7868c5cd"
      },
      "execution_count": 61,
      "outputs": [
        {
          "output_type": "stream",
          "name": "stdout",
          "text": [
            "Model Saved!\n"
          ]
        }
      ]
    },
    {
      "cell_type": "code",
      "source": [
        "\n",
        "model2 = Sequential([\n",
        "      Dense(units=12, input_shape=(1,), activation='relu'),\n",
        "      Dense(units=24, activation='relu'),\n",
        "      Dense(units=12, activation='relu'),\n",
        "      Dense(units=2, activation='softmax')\n",
        "])"
      ],
      "metadata": {
        "id": "4D8dQPs18Q_z"
      },
      "execution_count": 62,
      "outputs": []
    },
    {
      "cell_type": "code",
      "source": [
        "model2.load_weights('model_weights.h5')"
      ],
      "metadata": {
        "id": "QNMB_Rll8VRz"
      },
      "execution_count": 63,
      "outputs": []
    },
    {
      "cell_type": "code",
      "source": [
        "\n",
        "model2.get_weights()"
      ],
      "metadata": {
        "colab": {
          "base_uri": "https://localhost:8080/"
        },
        "id": "gHqVPFZ18W5s",
        "outputId": "49821087-368a-459b-c185-00f13a266dd8"
      },
      "execution_count": 64,
      "outputs": [
        {
          "output_type": "execute_result",
          "data": {
            "text/plain": [
              "[array([[-0.13425744,  0.7056713 , -0.49377584, -0.03149235,  0.73733145,\n",
              "         -0.5250516 ,  0.38833922,  0.26621702,  0.65377945, -0.1026423 ,\n",
              "         -0.21099481, -0.33365202]], dtype=float32),\n",
              " array([ 0.        ,  0.08041933,  0.        ,  0.        , -0.18783708,\n",
              "         0.        , -0.17481846, -0.12115996, -0.16083696,  0.        ,\n",
              "         0.        ,  0.        ], dtype=float32),\n",
              " array([[-0.17154151,  0.20598519,  0.06071839, -0.03843379, -0.14856184,\n",
              "         -0.2756403 ,  0.27241045,  0.12624341, -0.11319301, -0.07477644,\n",
              "         -0.09444305,  0.18633986, -0.09187189,  0.05997467, -0.2918716 ,\n",
              "          0.217255  ,  0.33281058, -0.02766776, -0.30269718,  0.24448234,\n",
              "         -0.27374375, -0.0347968 ,  0.34700072, -0.40452918],\n",
              "        [ 0.01929194, -0.175305  ,  0.1133874 ,  0.3187288 , -0.00706246,\n",
              "         -0.28002855,  0.01980976,  0.30359164,  0.4400875 , -0.33449018,\n",
              "         -0.11256903,  0.08552212,  0.18356086, -0.19910719,  0.07912372,\n",
              "          0.18174945,  0.53795063, -0.17454787, -0.24152227,  0.08796063,\n",
              "          0.58577144, -0.1700086 ,  0.00765813,  0.27859947],\n",
              "        [-0.22205901,  0.16736907, -0.2589959 ,  0.37042278,  0.19204092,\n",
              "          0.33143544,  0.03095385, -0.13974318,  0.28985173, -0.03940353,\n",
              "          0.19472557, -0.33109137, -0.01757967, -0.13925165,  0.06072822,\n",
              "         -0.01393852, -0.33969656, -0.02307984, -0.12600943, -0.3370585 ,\n",
              "          0.38932544, -0.38863823, -0.21547095, -0.28764176],\n",
              "        [-0.29766133,  0.18173236, -0.1818924 ,  0.22510111, -0.18010835,\n",
              "          0.15708148, -0.33569536,  0.18133533,  0.24504423,  0.22037172,\n",
              "          0.09073746,  0.23323119,  0.03173777,  0.21745872, -0.20943303,\n",
              "          0.01011193,  0.12040955, -0.2146155 ,  0.24691492, -0.29080892,\n",
              "          0.09504545, -0.06598768,  0.15165323, -0.083336  ],\n",
              "        [ 0.02313066,  0.05350935, -0.26840445,  0.43952224, -0.22863197,\n",
              "          0.31967434,  0.04888046,  0.04287486,  0.20627247,  0.12603271,\n",
              "          0.4343195 ,  0.5665307 , -0.41549096,  0.40333033, -0.6224224 ,\n",
              "         -0.14246997,  0.04678559, -0.07727453,  0.02791973, -0.50477606,\n",
              "          0.2727686 , -0.12119356,  0.54847264,  0.45303807],\n",
              "        [ 0.29158205,  0.27681005,  0.00840312,  0.3305431 ,  0.11481071,\n",
              "         -0.29766104,  0.15925914,  0.2261582 ,  0.31286043, -0.13456473,\n",
              "          0.24511403,  0.39608216, -0.08470333, -0.36951298,  0.3969159 ,\n",
              "         -0.08756721, -0.3840581 , -0.19286835,  0.37527806,  0.3010311 ,\n",
              "          0.09047505, -0.2675536 ,  0.35318863, -0.2107381 ],\n",
              "        [ 0.3767256 ,  0.2419323 , -0.7896687 ,  0.65845436,  0.28731513,\n",
              "          0.3286054 ,  0.38870072,  0.7090052 ,  0.57453215,  0.2256847 ,\n",
              "          0.79328287,  0.5628043 , -0.9737722 ,  0.3966535 , -1.0040792 ,\n",
              "         -0.01525317,  0.01237683,  0.16436607, -0.24155433, -1.0579871 ,\n",
              "          0.3314502 , -0.34459072,  0.84612733,  0.48331937],\n",
              "        [-0.32886282,  0.3414931 , -0.8413267 ,  0.0969812 ,  0.14298749,\n",
              "          0.32522365, -0.07834968,  0.00541431,  0.10133322,  0.17495948,\n",
              "          0.6296957 ,  0.30076423, -1.2923557 , -0.17491923, -0.9317281 ,\n",
              "         -0.73920465, -0.5139409 ,  0.1659022 , -0.36625183, -0.858633  ,\n",
              "          0.5937973 , -0.18165684,  0.7859665 ,  0.08009512],\n",
              "        [-0.38898003,  0.02124348, -0.57839   , -0.15951316, -0.05160648,\n",
              "         -0.17088966, -0.40279144,  0.13617061,  0.4525636 , -0.3136937 ,\n",
              "          0.46454495,  0.29307473, -0.36272192,  0.5270415 ,  0.08540686,\n",
              "         -0.34929928, -0.2887419 , -0.09409842,  0.2392585 , -0.21672209,\n",
              "          0.24101606, -0.20039617,  0.62729526,  0.43975925],\n",
              "        [-0.096903  , -0.39969137, -0.09455997,  0.27612382,  0.01990664,\n",
              "          0.15458322, -0.15506169, -0.03039175,  0.31189698,  0.24649549,\n",
              "          0.10461819, -0.08898476, -0.32022783,  0.04710314, -0.18279749,\n",
              "         -0.3831264 , -0.07605377,  0.318047  , -0.22912556, -0.19422899,\n",
              "          0.13041508,  0.19152445, -0.0528326 , -0.29342437],\n",
              "        [-0.37388718, -0.03720951,  0.00477356, -0.17614268,  0.24406207,\n",
              "         -0.08325219, -0.28950816, -0.3990965 ,  0.33697265, -0.3215025 ,\n",
              "          0.15641737,  0.3517133 ,  0.03698769, -0.19959442, -0.3617281 ,\n",
              "         -0.0029175 , -0.03779742,  0.01573831, -0.40218234,  0.09817398,\n",
              "          0.20705402, -0.27309746,  0.00401297,  0.19781572],\n",
              "        [-0.19896117, -0.06143069,  0.02703616,  0.35137177,  0.2870537 ,\n",
              "          0.3956675 ,  0.24184573, -0.03439471,  0.2850108 ,  0.2741769 ,\n",
              "         -0.17213757, -0.20536506,  0.26190275, -0.13992655,  0.13244224,\n",
              "         -0.19121377, -0.36414453,  0.10267323, -0.38385797, -0.249434  ,\n",
              "          0.37515652, -0.13931033,  0.10607022, -0.32164752]],\n",
              "       dtype=float32),\n",
              " array([-0.00634789, -0.00605493,  0.17315061, -0.17174095,  0.        ,\n",
              "        -0.00528355, -0.00610713, -0.14725536, -0.13059308,  0.        ,\n",
              "        -0.08714601, -0.16214965,  0.14900959,  0.17254116,  0.14183201,\n",
              "         0.20267439,  0.20640676,  0.        ,  0.17714866,  0.17707562,\n",
              "         0.04223341,  0.        , -0.17873906, -0.1646368 ], dtype=float32),\n",
              " array([[-2.10557982e-01,  3.61286998e-01, -9.67231989e-02,\n",
              "          1.70182720e-01,  2.14057982e-01, -3.56440067e-01,\n",
              "         -9.21414495e-02,  2.53458947e-01,  2.50386894e-01,\n",
              "         -2.80783445e-01,  1.58169180e-01, -2.41781443e-01],\n",
              "        [ 2.84016994e-03,  2.38855541e-01, -3.82998616e-01,\n",
              "          2.48968601e-04, -1.37347490e-01,  3.87461841e-01,\n",
              "          3.17465812e-01, -2.13796631e-01,  1.51739150e-01,\n",
              "          1.40904665e-01, -3.15171897e-01, -2.25475952e-01],\n",
              "        [ 3.40367883e-01,  1.94501467e-02, -4.06846255e-02,\n",
              "          2.48574317e-01, -2.33966067e-01,  1.61385477e-01,\n",
              "         -1.00028145e+00,  3.71546566e-01, -1.42092228e+00,\n",
              "          6.86323404e-01, -1.06697358e-01, -7.20363557e-01],\n",
              "        [-6.16054714e-01, -4.21691328e-01,  3.55352491e-01,\n",
              "         -6.68821990e-01,  8.08903873e-02,  2.04975367e-01,\n",
              "          3.06770742e-01, -2.17351392e-01,  1.64203823e-01,\n",
              "         -2.68236905e-01,  2.36824259e-01,  5.76857984e-01],\n",
              "        [-6.93405271e-02,  2.82492697e-01, -3.23482752e-02,\n",
              "         -1.86001435e-01, -6.28136992e-02, -9.59715843e-02,\n",
              "          2.94379056e-01,  2.42024720e-01, -3.05647016e-01,\n",
              "         -2.99631178e-01,  3.23113859e-01, -3.44656795e-01],\n",
              "        [ 3.18348736e-01, -1.15431480e-01, -3.04586530e-01,\n",
              "         -1.04270399e-01, -1.26287431e-01,  2.04577148e-01,\n",
              "         -4.05564636e-01,  2.05166206e-01, -1.61313847e-01,\n",
              "          2.24773169e-01,  5.26260436e-02, -1.22255445e-01],\n",
              "        [-1.30265296e-01,  7.70577490e-02, -1.74194306e-01,\n",
              "         -6.40077963e-02,  3.17516208e-01, -1.02442861e-01,\n",
              "         -2.52478453e-03, -3.54345113e-01,  9.18465629e-02,\n",
              "          1.95933923e-01,  3.91073138e-01,  3.84590328e-01],\n",
              "        [-4.30164516e-01,  1.90681413e-01, -3.31755867e-03,\n",
              "         -7.59043932e-01,  1.53278172e-01,  2.34971702e-01,\n",
              "          1.68487094e-02,  1.53210089e-01,  6.40345991e-01,\n",
              "         -1.84333727e-01, -2.30946615e-01,  1.22728035e-01],\n",
              "        [ 8.81976914e-03, -7.80053139e-02, -2.28893176e-01,\n",
              "         -4.98545438e-01, -3.69863182e-01, -2.12494493e-01,\n",
              "          3.61396164e-01,  4.45254892e-01,  4.98790950e-01,\n",
              "         -1.70611635e-01, -1.30867869e-01,  6.58006608e-01],\n",
              "        [ 3.87890399e-01,  1.44577086e-01, -6.78415895e-02,\n",
              "         -4.09165919e-02, -4.07310396e-01, -3.16637754e-01,\n",
              "         -2.19310597e-01,  1.80987895e-01, -6.88543618e-02,\n",
              "          1.14901602e-01,  1.31694913e-01,  2.21514106e-01],\n",
              "        [-4.34272498e-01, -2.20117643e-01, -3.13225120e-01,\n",
              "         -9.78366494e-01, -8.69833827e-02, -3.59540135e-01,\n",
              "          7.57603049e-02, -2.40179915e-02,  1.97065532e-01,\n",
              "         -7.96696723e-01,  1.72623619e-01,  4.64679420e-01],\n",
              "        [-5.65128267e-01,  2.68942863e-01, -7.99521580e-02,\n",
              "         -9.75109279e-01, -2.08462134e-01, -6.37235940e-02,\n",
              "          5.58598638e-01,  2.67809004e-01,  2.00168505e-01,\n",
              "         -5.00034571e-01, -2.73348570e-01,  3.59673053e-02],\n",
              "        [ 6.43195987e-01, -1.49136350e-01,  5.43038780e-03,\n",
              "          3.84010106e-01, -8.41150582e-02,  1.55380070e-02,\n",
              "         -9.74881887e-01,  3.37204844e-01, -1.39291942e+00,\n",
              "          8.59989703e-01,  7.20488327e-03, -1.28143263e+00],\n",
              "        [ 1.88130036e-01, -2.33656406e-01, -1.46603599e-01,\n",
              "          3.01601619e-01,  4.18682098e-02, -2.26118803e-01,\n",
              "          5.20013034e-01,  2.19922513e-01,  4.84276235e-01,\n",
              "         -3.24985050e-02,  2.54741251e-01,  5.03631353e-01],\n",
              "        [ 3.28499049e-01, -1.85833097e-01, -1.75155595e-01,\n",
              "          4.01553333e-01, -2.18194425e-02,  3.95599306e-02,\n",
              "         -7.70119131e-01,  1.98663458e-01, -1.07958865e+00,\n",
              "          4.04298425e-01, -1.67052969e-01, -1.37285888e+00],\n",
              "        [ 5.72049439e-01, -2.91424185e-01, -1.16080288e-02,\n",
              "          1.17282532e-01, -2.11231872e-01, -1.78478792e-01,\n",
              "          1.16980605e-01, -6.44157708e-01,  1.31571069e-01,\n",
              "          5.35510242e-01,  3.60263973e-01,  1.53969258e-01],\n",
              "        [ 3.71392518e-01,  6.40643612e-02,  1.25458330e-01,\n",
              "          2.56235540e-01, -3.41811836e-01, -2.60657966e-01,\n",
              "          7.54286796e-02, -2.52773792e-01,  2.91280806e-01,\n",
              "          6.31872490e-02, -7.50499070e-02,  4.82721835e-01],\n",
              "        [ 2.52923787e-01,  2.65312016e-01, -2.98791826e-02,\n",
              "         -2.73859680e-01, -9.25302505e-02,  1.81304216e-01,\n",
              "         -5.22694290e-02,  2.15742707e-01, -7.23317266e-03,\n",
              "          2.62871683e-02,  1.05322182e-01, -1.69217557e-01],\n",
              "        [ 3.37272525e-01,  1.51040569e-01, -9.21874568e-02,\n",
              "          3.52149785e-01, -1.86780095e-02, -1.71048701e-01,\n",
              "          5.04052162e-01, -4.11782503e-01,  5.32126665e-01,\n",
              "          3.56253743e-01,  7.94277191e-02, -1.07521594e-01],\n",
              "        [ 8.29689264e-01,  1.03451163e-01, -6.71024993e-02,\n",
              "          7.37998545e-01,  1.29995763e-01, -1.85917616e-02,\n",
              "         -8.15323889e-01, -4.50082213e-01, -1.17125630e+00,\n",
              "          3.79842311e-01, -2.17558816e-01, -1.35928297e+00],\n",
              "        [-4.66695935e-01,  3.62496972e-02,  2.79882610e-01,\n",
              "          1.38520822e-01,  1.89749181e-01,  2.33373821e-01,\n",
              "          2.43337288e-01,  4.56513800e-02,  5.19862890e-01,\n",
              "          2.56069183e-01, -1.82357252e-01,  2.43719351e-02],\n",
              "        [-2.94312954e-01,  1.52387023e-02, -1.75228029e-01,\n",
              "          1.44843936e-01, -3.30253810e-01,  3.65748107e-02,\n",
              "         -3.65929425e-01, -2.99649090e-01,  1.86294973e-01,\n",
              "         -3.73460948e-01,  6.66436553e-03,  1.23687267e-01],\n",
              "        [-1.06893229e+00,  2.70703077e-01, -3.15703422e-01,\n",
              "         -1.06156921e+00, -3.61218959e-01,  3.96545351e-01,\n",
              "          1.33573219e-01,  4.17162508e-01,  1.08529307e-01,\n",
              "         -1.10875702e+00,  3.35391164e-01,  7.31559247e-02],\n",
              "        [-1.38601154e-01,  1.40925283e-02, -3.28264594e-01,\n",
              "         -9.02710408e-02,  1.28200829e-01, -2.99492955e-01,\n",
              "          6.45488560e-01,  1.81345716e-01,  1.20306522e-01,\n",
              "         -6.58538640e-01, -3.04347098e-01,  5.29270351e-01]], dtype=float32),\n",
              " array([ 0.12032754, -0.02253655, -0.03854116,  0.16620399,  0.        ,\n",
              "         0.        , -0.05413104, -0.06016161, -0.02343117,  0.11825594,\n",
              "        -0.01752714,  0.01164931], dtype=float32),\n",
              " array([[ 0.9614508 , -0.54999185],\n",
              "        [ 0.30802524, -0.49204457],\n",
              "        [-0.2545206 , -0.19671808],\n",
              "        [ 0.64120007, -0.8926923 ],\n",
              "        [ 0.47048998, -0.2992974 ],\n",
              "        [-0.15052682, -0.1994231 ],\n",
              "        [-0.8159385 , -0.16546564],\n",
              "        [ 0.69659996, -0.18732832],\n",
              "        [-0.17027278,  0.9101832 ],\n",
              "        [ 0.8492097 , -0.65495795],\n",
              "        [-0.00257255,  0.24507226],\n",
              "        [ 0.17627054,  1.0286437 ]], dtype=float32),\n",
              " array([-0.05886436,  0.05886437], dtype=float32)]"
            ]
          },
          "metadata": {},
          "execution_count": 64
        }
      ]
    },
    {
      "cell_type": "code",
      "source": [
        "from tensorflow.keras import regularizers"
      ],
      "metadata": {
        "id": "gDQ8lYPy8bGC"
      },
      "execution_count": 65,
      "outputs": []
    },
    {
      "cell_type": "code",
      "source": [
        "\n",
        "model = Sequential([\n",
        "      Dense(units=12, input_shape=(1,), activation='relu'),\n",
        "      Dense(units=24, activation='relu', kernel_regularizer=regularizers.l2(0.01)),\n",
        "      Dense(units=12, activation='relu', kernel_regularizer=regularizers.l2(0.01)),\n",
        "      Dense(units=2, activation='softmax')\n",
        "])\n",
        "     "
      ],
      "metadata": {
        "id": "GxaWsq9V8dDK"
      },
      "execution_count": 66,
      "outputs": []
    },
    {
      "cell_type": "code",
      "source": [],
      "metadata": {
        "id": "YsTT2jLn8Spc"
      },
      "execution_count": null,
      "outputs": []
    }
  ]
}